{
 "cells": [
  {
   "cell_type": "code",
   "execution_count": null,
   "metadata": {},
   "outputs": [],
   "source": [
    "import time\n",
    "import codecs\n",
    "import logging\n",
    "from baidu_api import *\n",
    "from data_process import *\n",
    "logging.basicConfig(level=logging.INFO)\n",
    "\n",
    "if __name__ == '__main__':\n",
    "    print(\"开始爬取数据，请稍等...\")\n",
    "    start_time = time.time()\n",
    "    input_beijing_1 = './file/grid_child_xian.txt'\n",
    "    output_path =\"./data/xian/\"\n",
    "    data_path = output_path+\"xian.csv\"\n",
    "    grid = [] \n",
    "    if not os.path.exists(output_path):\n",
    "        os.makedirs(output_path)\n",
    "    with open(input_beijing_1) as track:\n",
    "        contents = track.readlines()\n",
    "        for line in contents:\n",
    "            grid.append(line.rstrip())\n",
    "    if os.path.exists(output_path+'/checkpoint.txt'):\n",
    "        with open(output_path+'/checkpoint.txt','r') as track:\n",
    "            i = int(track.read().rstrip())\n",
    "        \n",
    "    else:\n",
    "        i = 0\n",
    "    num = []\n",
    "    logger = logging.getLogger(\"baidu_api\")\n",
    "    \n",
    "    if not os.path.exists(output_path):\n",
    "            os.makedirs(output_path)\n",
    "    sic = pd.read_csv('./file'+'/sic.csv')\n",
    "    for j in range(i,len(grid)):\n",
    "        print(grid[j])\n",
    "        i += 1\n",
    "        with open(output_path+'/checkpoint.txt', 'w') as track:\n",
    "                track.write(str(i)+'\\n')\n",
    "        print(\"正在采集第%d个区域\"%i)\n",
    "        uri = u'酒店$休闲娱乐$金融$美食$医疗$交通设施$购物$生活服务$旅游景点$教育培训'\n",
    "        par = urls(uri, grid[j])\n",
    "        a = baidu_search(par,grid[j],sic)\n",
    "        b = len(a)\n",
    "        num.append(b)\n",
    "        print(\"第%d个区域采集数量为%d\"%(i,b))\n",
    "\n",
    "        for ax in a:\n",
    "            item = ','.join(ax)\n",
    "            with codecs.open(data_path, 'a', encoding='utf8') as data:\n",
    "                data.write(item+'\\n')\n",
    "            with open(output_path+'/ids.txt', 'a') as track:\n",
    "                track.write(ax[0]+'\\n')\n",
    "            msg = \"New Venue ! -> \"+ax[1]\n",
    "            logger.info(msg)\n",
    "    end_time = time.time()\n",
    "    print(\"爬取完毕，用时%.2f秒\" % (end_time - start_time))"
   ]
  },
  {
   "cell_type": "code",
   "execution_count": null,
   "metadata": {},
   "outputs": [],
   "source": []
  }
 ],
 "metadata": {
  "kernelspec": {
   "display_name": "Python 3",
   "language": "python",
   "name": "python3"
  },
  "language_info": {
   "codemirror_mode": {
    "name": "ipython",
    "version": 3
   },
   "file_extension": ".py",
   "mimetype": "text/x-python",
   "name": "python",
   "nbconvert_exporter": "python",
   "pygments_lexer": "ipython3",
   "version": "3.6.0"
  }
 },
 "nbformat": 4,
 "nbformat_minor": 2
}
